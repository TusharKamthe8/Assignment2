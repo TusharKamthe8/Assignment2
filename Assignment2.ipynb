{
 "cells": [
  {
   "cell_type": "code",
   "execution_count": 1,
   "id": "be226fe1-8b32-4c37-9b6e-d47311b4d397",
   "metadata": {},
   "outputs": [],
   "source": [
    "# Question No-1"
   ]
  },
  {
   "cell_type": "code",
   "execution_count": 4,
   "id": "6a963f66-757d-4eba-8b8d-d991697a52ac",
   "metadata": {},
   "outputs": [
    {
     "name": "stdin",
     "output_type": "stream",
     "text": [
      "Enter your percentage 45\n"
     ]
    },
    {
     "name": "stdout",
     "output_type": "stream",
     "text": [
      "D\n"
     ]
    }
   ],
   "source": [
    "grade = float(input(\"Enter your percentage\"))\n",
    "if grade > 90:\n",
    "    print(\"A\")\n",
    "elif grade > 80 and grade <= 90:\n",
    "    print(\"B\")\n",
    "elif grade >= 60 and grade <= 80:\n",
    "    print(\"C\")\n",
    "elif grade < 60:\n",
    "    print(\"D\")\n",
    "else:\n",
    "    print(\"Enter proper percentage\")"
   ]
  },
  {
   "cell_type": "code",
   "execution_count": 5,
   "id": "9a4b9c06-19a2-48d6-873a-4be4e46d3f2a",
   "metadata": {},
   "outputs": [],
   "source": [
    "# Question No-2"
   ]
  },
  {
   "cell_type": "code",
   "execution_count": 6,
   "id": "b9580aa1-c922-4bb5-84d3-662f5e05fe03",
   "metadata": {},
   "outputs": [
    {
     "name": "stdin",
     "output_type": "stream",
     "text": [
      "Enter the cost price of bike 1200000\n"
     ]
    },
    {
     "name": "stdout",
     "output_type": "stream",
     "text": [
      "Tax to be paid: 15%\n"
     ]
    }
   ],
   "source": [
    "price = int(input(\"Enter the cost price of bike\"))\n",
    "if price > 100000:\n",
    "    print(\"Tax to be paid: 15%\")\n",
    "elif price > 50000 and price <= 100000:\n",
    "    print(\"Tax to be paid: 10%\")\n",
    "elif price <= 50000:\n",
    "    print(\"Tax to be paid: 5%\")"
   ]
  },
  {
   "cell_type": "code",
   "execution_count": 7,
   "id": "b65ef162-a9ab-4a44-847d-6fb81ca25a77",
   "metadata": {},
   "outputs": [],
   "source": [
    "# Question No-3"
   ]
  },
  {
   "cell_type": "code",
   "execution_count": 8,
   "id": "44d680be-d1a4-4f5e-9ffb-1262d14199e9",
   "metadata": {},
   "outputs": [
    {
     "name": "stdin",
     "output_type": "stream",
     "text": [
      "Enter name of the city Delhi\n"
     ]
    },
    {
     "name": "stdout",
     "output_type": "stream",
     "text": [
      "Monument: Red Fort\n"
     ]
    }
   ],
   "source": [
    "city = input(\"Enter name of the city\")\n",
    "if city == \"Delhi\":\n",
    "    print(\"Monument: Red Fort\")\n",
    "elif city == \"Agra\":\n",
    "    print(\"Monument: Taj Mahal\")\n",
    "elif city == \"Jaipur\":\n",
    "    print(\"Monument: Jai Mahal\")\n",
    "    "
   ]
  },
  {
   "cell_type": "code",
   "execution_count": 27,
   "id": "8195fbb1-0e84-4bf6-be7c-1868d4c3eed6",
   "metadata": {},
   "outputs": [],
   "source": [
    "# Question No-4"
   ]
  },
  {
   "cell_type": "code",
   "execution_count": 26,
   "id": "1b70efe8-946b-41a3-b401-af65fdecbad4",
   "metadata": {},
   "outputs": [
    {
     "name": "stdin",
     "output_type": "stream",
     "text": [
      "Enter a number 100\n"
     ]
    },
    {
     "name": "stdout",
     "output_type": "stream",
     "text": [
      "The number can be divided 2 times by 3 before it is less than or equal to 10\n"
     ]
    }
   ],
   "source": [
    "n = int(input(\"Enter a number\"))\n",
    "b = 0\n",
    "for i in range(0,100):\n",
    "    a = n/3\n",
    "    n = a\n",
    "    if n <= 10:\n",
    "        break\n",
    "    b = b + 1\n",
    "print(\"The number can be divided\",b,\"times by 3 before it is less than or equal to 10\")\n"
   ]
  },
  {
   "cell_type": "code",
   "execution_count": 28,
   "id": "0f3aecd7-4bec-4fad-bd62-f62593847f9c",
   "metadata": {},
   "outputs": [],
   "source": [
    "# Question No-5"
   ]
  },
  {
   "cell_type": "code",
   "execution_count": 7,
   "id": "c5a089f1-5d43-46a1-ad63-d37683422ae1",
   "metadata": {},
   "outputs": [
    {
     "name": "stdin",
     "output_type": "stream",
     "text": [
      "Enter a number 5\n"
     ]
    },
    {
     "name": "stdout",
     "output_type": "stream",
     "text": [
      "The number will be incremented 5 times to be equal to 10\n"
     ]
    },
    {
     "data": {
      "text/plain": [
       "\" Here we will increament 'i' until its equal to 10, as the iterations aren't known from begining we are implementing while loop here \""
      ]
     },
     "execution_count": 7,
     "metadata": {},
     "output_type": "execute_result"
    }
   ],
   "source": [
    "\"\"\" While loop is used when we don't know how many iterations it will take to perform the task unlike for loop where we know about the iterations in the begining only \"\"\"\n",
    "\"\"\" Let us take an example where iterations aren't known in the begining and use while loop upon it \"\"\"\n",
    "i = int(input(\"Enter a number\"))\n",
    "count = 0\n",
    "if i >= 10:\n",
    "    print(\"The number is already greater than or equal 10\")\n",
    "else:\n",
    "    while i < 10:\n",
    "        i = i + 1\n",
    "        count = count + 1\n",
    "    print(\"The number will be incremented\",count,\"times to be equal to 10\")\n",
    "\"\"\" Here we will increament 'i' until its equal to 10, as the iterations aren't known from begining we are implementing while loop here \"\"\"\n",
    "    "
   ]
  },
  {
   "cell_type": "code",
   "execution_count": 8,
   "id": "c37e7bb9-66f7-42a5-8ede-a9ef6accf304",
   "metadata": {},
   "outputs": [],
   "source": [
    "# Question No-6"
   ]
  },
  {
   "cell_type": "code",
   "execution_count": 9,
   "id": "7773756f-0001-424b-9ecd-98bd6bb8f1c0",
   "metadata": {},
   "outputs": [
    {
     "name": "stdout",
     "output_type": "stream",
     "text": [
      "* \n",
      "* * \n",
      "* * * \n",
      "* * * * \n",
      "* * * * * \n",
      "* * * * * * \n",
      "* * * * * * * \n",
      "* * * * * * * * \n",
      "* * * * * * * * \n",
      "* * * * * * * \n",
      "* * * * * * \n",
      "* * * * * \n",
      "* * * * \n",
      "* * * \n",
      "* * \n",
      "* \n",
      "\n",
      "    *\n",
      "   ***\n",
      "  *****\n",
      " *******\n",
      "*********\n"
     ]
    }
   ],
   "source": [
    "# Pattern no-1\n",
    "i = 1\n",
    "while i <= 8 :\n",
    "    j = 1\n",
    "    while j <= i:\n",
    "        print(\"*\", end = \" \")\n",
    "        j += 1\n",
    "    print()\n",
    "    i += 1\n",
    "# Pattern no-2\n",
    "i = 8\n",
    "while i <= 8 and i >= 0 :\n",
    "    j = 1\n",
    "    while j <= i:\n",
    "        print(\"*\", end = \" \")\n",
    "        j += 1\n",
    "    print()\n",
    "    i -= 1\n",
    "# Pattern no-3\n",
    "size = 5\n",
    "i = 0\n",
    "while i < size:\n",
    "    j = 0\n",
    "    while j < size - i - 1:\n",
    "        print(' ', end='')\n",
    "        j += 1\n",
    "    k = 0\n",
    "    while k < 2 * i + 1:\n",
    "        print('*', end='')\n",
    "        k += 1\n",
    "    print()\n",
    "    i += 1"
   ]
  },
  {
   "cell_type": "code",
   "execution_count": null,
   "id": "2c9f3a4b-3ace-4db2-8117-6d7502d54901",
   "metadata": {},
   "outputs": [],
   "source": [
    "# Question No-7"
   ]
  },
  {
   "cell_type": "code",
   "execution_count": 1,
   "id": "e82bce7d-6027-4ed1-b6e3-ca4806068d8c",
   "metadata": {
    "tags": []
   },
   "outputs": [
    {
     "name": "stdout",
     "output_type": "stream",
     "text": [
      "10\n",
      "9\n",
      "8\n",
      "7\n",
      "6\n",
      "5\n",
      "4\n",
      "3\n",
      "2\n",
      "1\n"
     ]
    }
   ],
   "source": [
    "a = 10\n",
    "while a>=1:\n",
    "    print(a)\n",
    "    a = a - 1\n",
    "    "
   ]
  }
 ],
 "metadata": {
  "kernelspec": {
   "display_name": "Python 3 (ipykernel)",
   "language": "python",
   "name": "python3"
  },
  "language_info": {
   "codemirror_mode": {
    "name": "ipython",
    "version": 3
   },
   "file_extension": ".py",
   "mimetype": "text/x-python",
   "name": "python",
   "nbconvert_exporter": "python",
   "pygments_lexer": "ipython3",
   "version": "3.10.6"
  }
 },
 "nbformat": 4,
 "nbformat_minor": 5
}
